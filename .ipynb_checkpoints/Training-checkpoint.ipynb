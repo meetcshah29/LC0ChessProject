{
 "cells": [
  {
   "cell_type": "code",
   "execution_count": null,
   "metadata": {
    "colab": {
     "base_uri": "https://localhost:8080/"
    },
    "executionInfo": {
     "elapsed": 6,
     "status": "ok",
     "timestamp": 1682358385829,
     "user": {
      "displayName": "Meet Shah",
      "userId": "00934144907278114802"
     },
     "user_tz": -60
    },
    "id": "gkAqDqVfvNnF",
    "outputId": "9513526d-d7be-4841-a580-3f53ca9d3ccb"
   },
   "outputs": [],
   "source": [
    "gpu_info = !nvidia-smi\n",
    "gpu_info = '\\n'.join(gpu_info)\n",
    "if gpu_info.find('failed') >= 0:\n",
    "  print('Not connected to a GPU')\n",
    "else:\n",
    "  print(gpu_info)"
   ]
  },
  {
   "cell_type": "code",
   "execution_count": null,
   "metadata": {
    "colab": {
     "base_uri": "https://localhost:8080/"
    },
    "executionInfo": {
     "elapsed": 52793,
     "status": "ok",
     "timestamp": 1682358440704,
     "user": {
      "displayName": "Meet Shah",
      "userId": "00934144907278114802"
     },
     "user_tz": -60
    },
    "id": "62rcduKFpYNh",
    "outputId": "41efccdf-13bc-4dfd-ece8-53d4ddde1004"
   },
   "outputs": [],
   "source": [
    "!pip install tensorflow==2.10"
   ]
  },
  {
   "cell_type": "code",
   "execution_count": null,
   "metadata": {
    "colab": {
     "base_uri": "https://localhost:8080/"
    },
    "executionInfo": {
     "elapsed": 15924,
     "status": "ok",
     "timestamp": 1682358461248,
     "user": {
      "displayName": "Meet Shah",
      "userId": "00934144907278114802"
     },
     "user_tz": -60
    },
    "id": "d_ashQNPhLxY",
    "outputId": "bcffdaa1-ca49-4cfd-d752-8fb6c850a0d3"
   },
   "outputs": [],
   "source": [
    "from google.colab import drive\n",
    "\n",
    "drive.mount('/content/gdrive', force_remount=True)"
   ]
  },
  {
   "cell_type": "code",
   "execution_count": null,
   "metadata": {
    "executionInfo": {
     "elapsed": 65688,
     "status": "ok",
     "timestamp": 1682358526933,
     "user": {
      "displayName": "Meet Shah",
      "userId": "00934144907278114802"
     },
     "user_tz": -60
    },
    "id": "GxrkcNm0hR_G"
   },
   "outputs": [],
   "source": [
    "!chmod -R 777 \"/content/gdrive/MyDrive/Project\""
   ]
  },
  {
   "cell_type": "code",
   "execution_count": null,
   "metadata": {
    "colab": {
     "base_uri": "https://localhost:8080/"
    },
    "executionInfo": {
     "elapsed": 109153,
     "status": "ok",
     "timestamp": 1682348143065,
     "user": {
      "displayName": "Meet Shah",
      "userId": "00934144907278114802"
     },
     "user_tz": -60
    },
    "id": "PknB9LXPh4gX",
    "outputId": "d1354aeb-68ce-4ee9-d02f-46a5dfc7be73"
   },
   "outputs": [],
   "source": [
    "!\"/content/gdrive/MyDrive/Project/lczero/tf/train.py\" --cfg \"/content/gdrive/MyDrive/Project/YAML_Files/1000-1100.yaml\" --output \"/content/gdrive/MyDrive/Project/lczero/TrainedModels/1000_1100.txt\""
   ]
  },
  {
   "cell_type": "code",
   "execution_count": null,
   "metadata": {
    "colab": {
     "base_uri": "https://localhost:8080/"
    },
    "executionInfo": {
     "elapsed": 33685,
     "status": "ok",
     "timestamp": 1682346232124,
     "user": {
      "displayName": "Meet Shah",
      "userId": "00934144907278114802"
     },
     "user_tz": -60
    },
    "id": "Mmn-Q3w9yKCN",
    "outputId": "7d36b5dd-046d-48f9-810a-2b810236d189"
   },
   "outputs": [],
   "source": [
    "!\"/content/gdrive/MyDrive/Project/lczero/tf/train.py\" --cfg \"/content/gdrive/MyDrive/Project/YAML_Files/1101-1200.yaml\" --output \"/content/gdrive/MyDrive/Project/lczero/TrainedModels/1101_1200.txt\""
   ]
  },
  {
   "cell_type": "code",
   "execution_count": null,
   "metadata": {
    "colab": {
     "base_uri": "https://localhost:8080/"
    },
    "executionInfo": {
     "elapsed": 31891,
     "status": "ok",
     "timestamp": 1682346264011,
     "user": {
      "displayName": "Meet Shah",
      "userId": "00934144907278114802"
     },
     "user_tz": -60
    },
    "id": "prBIuRocQY3B",
    "outputId": "6cb8d71d-07a4-4c6a-f407-a77cd67c130a"
   },
   "outputs": [],
   "source": [
    "!\"/content/gdrive/MyDrive/Project/lczero/tf/train.py\" --cfg \"/content/gdrive/MyDrive/Project/YAML_Files/1201-1300.yaml\" --output \"/content/gdrive/MyDrive/Project/lczero/TrainedModels/1201_1300.txt\""
   ]
  },
  {
   "cell_type": "code",
   "execution_count": null,
   "metadata": {
    "colab": {
     "base_uri": "https://localhost:8080/"
    },
    "executionInfo": {
     "elapsed": 32184,
     "status": "ok",
     "timestamp": 1682346296179,
     "user": {
      "displayName": "Meet Shah",
      "userId": "00934144907278114802"
     },
     "user_tz": -60
    },
    "id": "LZV2ZxokQeIz",
    "outputId": "236ca07b-a47a-46c1-e3b5-a8030abb107a"
   },
   "outputs": [],
   "source": [
    "!\"/content/gdrive/MyDrive/Project/lczero/tf/train.py\" --cfg \"/content/gdrive/MyDrive/Project/YAML_Files/1301-1400.yaml\" --output \"/content/gdrive/MyDrive/Project/lczero/TrainedModels/1301_1400.txt\""
   ]
  },
  {
   "cell_type": "code",
   "execution_count": null,
   "metadata": {
    "colab": {
     "base_uri": "https://localhost:8080/"
    },
    "executionInfo": {
     "elapsed": 31923,
     "status": "ok",
     "timestamp": 1682346328099,
     "user": {
      "displayName": "Meet Shah",
      "userId": "00934144907278114802"
     },
     "user_tz": -60
    },
    "id": "4hV2k1FmQg9w",
    "outputId": "7f4a5849-d066-4965-c116-2fecee6afc0b"
   },
   "outputs": [],
   "source": [
    "!\"/content/gdrive/MyDrive/Project/lczero/tf/train.py\" --cfg \"/content/gdrive/MyDrive/Project/YAML_Files/1401-1500.yaml\" --output \"/content/gdrive/MyDrive/Project/lczero/TrainedModels/1401_1500.txt\""
   ]
  },
  {
   "cell_type": "code",
   "execution_count": null,
   "metadata": {
    "colab": {
     "base_uri": "https://localhost:8080/"
    },
    "executionInfo": {
     "elapsed": 32753,
     "status": "ok",
     "timestamp": 1682346360849,
     "user": {
      "displayName": "Meet Shah",
      "userId": "00934144907278114802"
     },
     "user_tz": -60
    },
    "id": "xKU-Y3FsQkK_",
    "outputId": "24b36f98-9b9a-4ab0-b26d-c822b28bc3b0"
   },
   "outputs": [],
   "source": [
    "!\"/content/gdrive/MyDrive/Project/lczero/tf/train.py\" --cfg \"/content/gdrive/MyDrive/Project/YAML_Files/1501-1600.yaml\" --output \"/content/gdrive/MyDrive/Project/lczero/TrainedModels/1501_1600.txt\""
   ]
  },
  {
   "cell_type": "code",
   "execution_count": null,
   "metadata": {
    "colab": {
     "base_uri": "https://localhost:8080/"
    },
    "executionInfo": {
     "elapsed": 33676,
     "status": "ok",
     "timestamp": 1682346394510,
     "user": {
      "displayName": "Meet Shah",
      "userId": "00934144907278114802"
     },
     "user_tz": -60
    },
    "id": "jPgsZTyFQmsA",
    "outputId": "0f057d7c-7f6b-4fff-a0fe-533c223eeac1"
   },
   "outputs": [],
   "source": [
    "!\"/content/gdrive/MyDrive/Project/lczero/tf/train.py\" --cfg \"/content/gdrive/MyDrive/Project/YAML_Files/1601-1700.yaml\" --output \"/content/gdrive/MyDrive/Project/lczero/TrainedModels/1601_1700.txt\""
   ]
  },
  {
   "cell_type": "code",
   "execution_count": null,
   "metadata": {
    "colab": {
     "base_uri": "https://localhost:8080/"
    },
    "executionInfo": {
     "elapsed": 35414,
     "status": "ok",
     "timestamp": 1682346429909,
     "user": {
      "displayName": "Meet Shah",
      "userId": "00934144907278114802"
     },
     "user_tz": -60
    },
    "id": "ba_-Aa22QqlV",
    "outputId": "218c0b63-ceb0-4f12-929a-8a376c1bf352"
   },
   "outputs": [],
   "source": [
    "!\"/content/gdrive/MyDrive/Project/lczero/tf/train.py\" --cfg \"/content/gdrive/MyDrive/Project/YAML_Files/1701-1800.yaml\" --output \"/content/gdrive/MyDrive/Project/lczero/TrainedModels/1701_1800.txt\""
   ]
  },
  {
   "cell_type": "code",
   "execution_count": null,
   "metadata": {
    "colab": {
     "base_uri": "https://localhost:8080/"
    },
    "executionInfo": {
     "elapsed": 37192,
     "status": "ok",
     "timestamp": 1682346467086,
     "user": {
      "displayName": "Meet Shah",
      "userId": "00934144907278114802"
     },
     "user_tz": -60
    },
    "id": "_xYFRHNwQth1",
    "outputId": "1223037a-394e-4e00-c6db-07bae8724dd6"
   },
   "outputs": [],
   "source": [
    "!\"/content/gdrive/MyDrive/Project/lczero/tf/train.py\" --cfg \"/content/gdrive/MyDrive/Project/YAML_Files/1801-1900.yaml\" --output \"/content/gdrive/MyDrive/Project/lczero/TrainedModels/1801_1900.txt\""
   ]
  },
  {
   "cell_type": "code",
   "execution_count": null,
   "metadata": {
    "colab": {
     "base_uri": "https://localhost:8080/"
    },
    "executionInfo": {
     "elapsed": 51933,
     "status": "ok",
     "timestamp": 1682346519004,
     "user": {
      "displayName": "Meet Shah",
      "userId": "00934144907278114802"
     },
     "user_tz": -60
    },
    "id": "OqJ7w31yQwS1",
    "outputId": "1a8f41e5-b01d-48e1-9fd8-56f485e6386b"
   },
   "outputs": [],
   "source": [
    "!\"/content/gdrive/MyDrive/Project/lczero/tf/train.py\" --cfg \"/content/gdrive/MyDrive/Project/YAML_Files/1901-2000.yaml\" --output \"/content/gdrive/MyDrive/Project/lczero/TrainedModels/1901_2000.txt\""
   ]
  },
  {
   "cell_type": "code",
   "execution_count": null,
   "metadata": {
    "colab": {
     "base_uri": "https://localhost:8080/"
    },
    "executionInfo": {
     "elapsed": 66414,
     "status": "ok",
     "timestamp": 1682346585404,
     "user": {
      "displayName": "Meet Shah",
      "userId": "00934144907278114802"
     },
     "user_tz": -60
    },
    "id": "l90NqYaPQzgl",
    "outputId": "7cc4a689-f1a7-4645-8d4f-a292b366ef92"
   },
   "outputs": [],
   "source": [
    "!\"/content/gdrive/MyDrive/Project/lczero/tf/train.py\" --cfg \"/content/gdrive/MyDrive/Project/YAML_Files/2001-2100.yaml\" --output \"/content/gdrive/MyDrive/Project/lczero/TrainedModels/2001_2100.txt\""
   ]
  },
  {
   "cell_type": "code",
   "execution_count": null,
   "metadata": {
    "colab": {
     "base_uri": "https://localhost:8080/"
    },
    "executionInfo": {
     "elapsed": 66652,
     "status": "ok",
     "timestamp": 1682346652041,
     "user": {
      "displayName": "Meet Shah",
      "userId": "00934144907278114802"
     },
     "user_tz": -60
    },
    "id": "9bY0aVkaQ2g-",
    "outputId": "a1e2db8e-dc92-457c-f58c-da2ebd680e53"
   },
   "outputs": [],
   "source": [
    "!\"/content/gdrive/MyDrive/Project/lczero/tf/train.py\" --cfg \"/content/gdrive/MyDrive/Project/YAML_Files/2101-2200.yaml\" --output \"/content/gdrive/MyDrive/Project/lczero/TrainedModels/2101_2200.txt\""
   ]
  },
  {
   "cell_type": "code",
   "execution_count": null,
   "metadata": {
    "colab": {
     "base_uri": "https://localhost:8080/"
    },
    "executionInfo": {
     "elapsed": 80032,
     "status": "ok",
     "timestamp": 1682346732069,
     "user": {
      "displayName": "Meet Shah",
      "userId": "00934144907278114802"
     },
     "user_tz": -60
    },
    "id": "CDJyIupdQ5bm",
    "outputId": "a808297c-1f1d-4b86-b439-07f66d669a82"
   },
   "outputs": [],
   "source": [
    "!\"/content/gdrive/MyDrive/Project/lczero/tf/train.py\" --cfg \"/content/gdrive/MyDrive/Project/YAML_Files/2201-2300.yaml\" --output \"/content/gdrive/MyDrive/Project/lczero/TrainedModels/2201_2300.txt\""
   ]
  },
  {
   "cell_type": "code",
   "execution_count": null,
   "metadata": {
    "colab": {
     "base_uri": "https://localhost:8080/"
    },
    "executionInfo": {
     "elapsed": 77381,
     "status": "ok",
     "timestamp": 1682346809434,
     "user": {
      "displayName": "Meet Shah",
      "userId": "00934144907278114802"
     },
     "user_tz": -60
    },
    "id": "XWATzprSQ9fU",
    "outputId": "7f20245d-16dd-483d-a8fa-9ddf3f6d98e7"
   },
   "outputs": [],
   "source": [
    "!\"/content/gdrive/MyDrive/Project/lczero/tf/train.py\" --cfg \"/content/gdrive/MyDrive/Project/YAML_Files/2301-2400.yaml\" --output \"/content/gdrive/MyDrive/Project/lczero/TrainedModels/2301_2400.txt\""
   ]
  },
  {
   "cell_type": "code",
   "execution_count": null,
   "metadata": {
    "colab": {
     "base_uri": "https://localhost:8080/"
    },
    "executionInfo": {
     "elapsed": 69015,
     "status": "ok",
     "timestamp": 1682346878434,
     "user": {
      "displayName": "Meet Shah",
      "userId": "00934144907278114802"
     },
     "user_tz": -60
    },
    "id": "yDSyiQ1-Q__F",
    "outputId": "bd8c27a4-e59d-4a25-abd3-9a12e1c73e20"
   },
   "outputs": [],
   "source": [
    "!\"/content/gdrive/MyDrive/Project/lczero/tf/train.py\" --cfg \"/content/gdrive/MyDrive/Project/YAML_Files/2401-2500.yaml\" --output \"/content/gdrive/MyDrive/Project/lczero/TrainedModels/2401_2500.txt\""
   ]
  },
  {
   "cell_type": "code",
   "execution_count": null,
   "metadata": {
    "colab": {
     "base_uri": "https://localhost:8080/"
    },
    "executionInfo": {
     "elapsed": 26549,
     "status": "ok",
     "timestamp": 1682346904968,
     "user": {
      "displayName": "Meet Shah",
      "userId": "00934144907278114802"
     },
     "user_tz": -60
    },
    "id": "teYkRuTkRDSe",
    "outputId": "4200671a-f290-4635-d765-2225582c67e0"
   },
   "outputs": [],
   "source": [
    "!\"/content/gdrive/MyDrive/Project/lczero/tf/train.py\" --cfg \"/content/gdrive/MyDrive/Project/YAML_Files/1.Steinitz.yaml\" --output \"/content/gdrive/MyDrive/Project/lczero/TrainedModels/1.Steinitz.txt\""
   ]
  },
  {
   "cell_type": "code",
   "execution_count": null,
   "metadata": {
    "colab": {
     "base_uri": "https://localhost:8080/"
    },
    "executionInfo": {
     "elapsed": 25556,
     "status": "ok",
     "timestamp": 1682346930512,
     "user": {
      "displayName": "Meet Shah",
      "userId": "00934144907278114802"
     },
     "user_tz": -60
    },
    "id": "8Qtq6AYCRklH",
    "outputId": "84035cc7-6ade-4e6f-91c3-594514a463a7"
   },
   "outputs": [],
   "source": [
    "!\"/content/gdrive/MyDrive/Project/lczero/tf/train.py\" --cfg \"/content/gdrive/MyDrive/Project/YAML_Files/2.Lasker.yaml\" --output \"/content/gdrive/MyDrive/Project/lczero/TrainedModels/2.Lasker.txt\""
   ]
  },
  {
   "cell_type": "code",
   "execution_count": null,
   "metadata": {
    "colab": {
     "base_uri": "https://localhost:8080/"
    },
    "executionInfo": {
     "elapsed": 25922,
     "status": "ok",
     "timestamp": 1682346956608,
     "user": {
      "displayName": "Meet Shah",
      "userId": "00934144907278114802"
     },
     "user_tz": -60
    },
    "id": "NE6sOxPORpY8",
    "outputId": "75dfbeea-a885-472e-9b4d-e225b0996fa2"
   },
   "outputs": [],
   "source": [
    "!\"/content/gdrive/MyDrive/Project/lczero/tf/train.py\" --cfg \"/content/gdrive/MyDrive/Project/YAML_Files/3.Capablanca.yaml\" --output \"/content/gdrive/MyDrive/Project/lczero/TrainedModels/3.Capablanca.txt\""
   ]
  },
  {
   "cell_type": "code",
   "execution_count": null,
   "metadata": {
    "colab": {
     "base_uri": "https://localhost:8080/"
    },
    "executionInfo": {
     "elapsed": 26074,
     "status": "ok",
     "timestamp": 1682346982679,
     "user": {
      "displayName": "Meet Shah",
      "userId": "00934144907278114802"
     },
     "user_tz": -60
    },
    "id": "fKQnw5nGRtsd",
    "outputId": "d2955821-74eb-4b34-82c4-7024d74caa6c"
   },
   "outputs": [],
   "source": [
    "!\"/content/gdrive/MyDrive/Project/lczero/tf/train.py\" --cfg \"/content/gdrive/MyDrive/Project/YAML_Files/4.Alekhine.yaml\" --output \"/content/gdrive/MyDrive/Project/lczero/TrainedModels/4.Alekhine.txt\""
   ]
  },
  {
   "cell_type": "code",
   "execution_count": null,
   "metadata": {
    "colab": {
     "base_uri": "https://localhost:8080/"
    },
    "executionInfo": {
     "elapsed": 26241,
     "status": "ok",
     "timestamp": 1682347008906,
     "user": {
      "displayName": "Meet Shah",
      "userId": "00934144907278114802"
     },
     "user_tz": -60
    },
    "id": "4gf7AI1jRxg3",
    "outputId": "69b7b01e-ac91-405d-ad1a-abac8eccbadc"
   },
   "outputs": [],
   "source": [
    "!\"/content/gdrive/MyDrive/Project/lczero/tf/train.py\" --cfg \"/content/gdrive/MyDrive/Project/YAML_Files/5.Euwe.yaml\" --output \"/content/gdrive/MyDrive/Project/lczero/TrainedModels/5.Euwe.txt\""
   ]
  },
  {
   "cell_type": "code",
   "execution_count": null,
   "metadata": {
    "colab": {
     "base_uri": "https://localhost:8080/"
    },
    "executionInfo": {
     "elapsed": 25823,
     "status": "ok",
     "timestamp": 1682347034714,
     "user": {
      "displayName": "Meet Shah",
      "userId": "00934144907278114802"
     },
     "user_tz": -60
    },
    "id": "RFD7SLMjR07t",
    "outputId": "ba0c00fb-3e2d-4298-ef9e-da82755a55a2"
   },
   "outputs": [],
   "source": [
    "!\"/content/gdrive/MyDrive/Project/lczero/tf/train.py\" --cfg \"/content/gdrive/MyDrive/Project/YAML_Files/6.Botvinnik.yaml\" --output \"/content/gdrive/MyDrive/Project/lczero/TrainedModels/6.Botvinnik.txt\""
   ]
  },
  {
   "cell_type": "code",
   "execution_count": null,
   "metadata": {
    "colab": {
     "base_uri": "https://localhost:8080/"
    },
    "executionInfo": {
     "elapsed": 26329,
     "status": "ok",
     "timestamp": 1682347061029,
     "user": {
      "displayName": "Meet Shah",
      "userId": "00934144907278114802"
     },
     "user_tz": -60
    },
    "id": "3RQcwut2R5FO",
    "outputId": "d218da17-822c-4d07-c448-66cc1155bb68"
   },
   "outputs": [],
   "source": [
    "!\"/content/gdrive/MyDrive/Project/lczero/tf/train.py\" --cfg \"/content/gdrive/MyDrive/Project/YAML_Files/7.Smyslov.yaml\" --output \"/content/gdrive/MyDrive/Project/lczero/TrainedModels/7.Smyslov.txt\""
   ]
  },
  {
   "cell_type": "code",
   "execution_count": null,
   "metadata": {
    "colab": {
     "base_uri": "https://localhost:8080/"
    },
    "executionInfo": {
     "elapsed": 26120,
     "status": "ok",
     "timestamp": 1682347087135,
     "user": {
      "displayName": "Meet Shah",
      "userId": "00934144907278114802"
     },
     "user_tz": -60
    },
    "id": "tbad4JAaR9Vm",
    "outputId": "a437b51b-caa2-4c6b-8e5b-d27352764aa1"
   },
   "outputs": [],
   "source": [
    "!\"/content/gdrive/MyDrive/Project/lczero/tf/train.py\" --cfg \"/content/gdrive/MyDrive/Project/YAML_Files/8.Tal.yaml\" --output \"/content/gdrive/MyDrive/Project/lczero/TrainedModels/8.Tal.txt\""
   ]
  },
  {
   "cell_type": "code",
   "execution_count": null,
   "metadata": {
    "colab": {
     "base_uri": "https://localhost:8080/"
    },
    "executionInfo": {
     "elapsed": 26439,
     "status": "ok",
     "timestamp": 1682347113560,
     "user": {
      "displayName": "Meet Shah",
      "userId": "00934144907278114802"
     },
     "user_tz": -60
    },
    "id": "WjmGcdsISAiM",
    "outputId": "3407d74f-6ee5-4593-f4fe-5678c1b4805b"
   },
   "outputs": [],
   "source": [
    "!\"/content/gdrive/MyDrive/Project/lczero/tf/train.py\" --cfg \"/content/gdrive/MyDrive/Project/YAML_Files/9.Petrosian.yaml\" --output \"/content/gdrive/MyDrive/Project/lczero/TrainedModels/9.Petrosian.txt\""
   ]
  },
  {
   "cell_type": "code",
   "execution_count": null,
   "metadata": {
    "colab": {
     "base_uri": "https://localhost:8080/"
    },
    "executionInfo": {
     "elapsed": 26109,
     "status": "ok",
     "timestamp": 1682347139653,
     "user": {
      "displayName": "Meet Shah",
      "userId": "00934144907278114802"
     },
     "user_tz": -60
    },
    "id": "bv8pA0pdSFQm",
    "outputId": "b647babc-c131-4505-c564-a19ca974c93f"
   },
   "outputs": [],
   "source": [
    "!\"/content/gdrive/MyDrive/Project/lczero/tf/train.py\" --cfg \"/content/gdrive/MyDrive/Project/YAML_Files/10.Spassky.yaml\" --output \"/content/gdrive/MyDrive/Project/lczero/TrainedModels/10.Spassky.txt\""
   ]
  },
  {
   "cell_type": "code",
   "execution_count": null,
   "metadata": {
    "colab": {
     "base_uri": "https://localhost:8080/"
    },
    "executionInfo": {
     "elapsed": 25578,
     "status": "ok",
     "timestamp": 1682347165216,
     "user": {
      "displayName": "Meet Shah",
      "userId": "00934144907278114802"
     },
     "user_tz": -60
    },
    "id": "Bnx1yuMrSI03",
    "outputId": "51a65228-f72e-4cec-becd-8d1fcbbea492"
   },
   "outputs": [],
   "source": [
    "!\"/content/gdrive/MyDrive/Project/lczero/tf/train.py\" --cfg \"/content/gdrive/MyDrive/Project/YAML_Files/11.Fischer.yaml\" --output \"/content/gdrive/MyDrive/Project/lczero/TrainedModels/11.Fischer.txt\""
   ]
  },
  {
   "cell_type": "code",
   "execution_count": null,
   "metadata": {
    "colab": {
     "base_uri": "https://localhost:8080/"
    },
    "executionInfo": {
     "elapsed": 26214,
     "status": "ok",
     "timestamp": 1682347191427,
     "user": {
      "displayName": "Meet Shah",
      "userId": "00934144907278114802"
     },
     "user_tz": -60
    },
    "id": "jcFZ2HKISLPT",
    "outputId": "b972269b-ed72-4d2d-d4ff-feab21085a3f"
   },
   "outputs": [],
   "source": [
    "!\"/content/gdrive/MyDrive/Project/lczero/tf/train.py\" --cfg \"/content/gdrive/MyDrive/Project/YAML_Files/12.Karpov.yaml\" --output \"/content/gdrive/MyDrive/Project/lczero/TrainedModels/12.Karpov.txt\""
   ]
  },
  {
   "cell_type": "code",
   "execution_count": null,
   "metadata": {
    "colab": {
     "base_uri": "https://localhost:8080/"
    },
    "executionInfo": {
     "elapsed": 25998,
     "status": "ok",
     "timestamp": 1682347217409,
     "user": {
      "displayName": "Meet Shah",
      "userId": "00934144907278114802"
     },
     "user_tz": -60
    },
    "id": "WrbgUntISNyl",
    "outputId": "32cde0d3-1259-4cd3-a6f4-4a137bd8b6ab"
   },
   "outputs": [],
   "source": [
    "!\"/content/gdrive/MyDrive/Project/lczero/tf/train.py\" --cfg \"/content/gdrive/MyDrive/Project/YAML_Files/13.Kasparov.yaml\" --output \"/content/gdrive/MyDrive/Project/lczero/TrainedModels/13.Kasparov.txt\""
   ]
  },
  {
   "cell_type": "code",
   "execution_count": null,
   "metadata": {
    "colab": {
     "base_uri": "https://localhost:8080/"
    },
    "executionInfo": {
     "elapsed": 26522,
     "status": "ok",
     "timestamp": 1682347243916,
     "user": {
      "displayName": "Meet Shah",
      "userId": "00934144907278114802"
     },
     "user_tz": -60
    },
    "id": "9-Yug2BiSRj_",
    "outputId": "19f2b453-1325-40b8-c59e-d5639212e59d"
   },
   "outputs": [],
   "source": [
    "!\"/content/gdrive/MyDrive/Project/lczero/tf/train.py\" --cfg \"/content/gdrive/MyDrive/Project/YAML_Files/14.Kramnik.yaml\" --output \"/content/gdrive/MyDrive/Project/lczero/TrainedModels/14.Kramnik.txt\""
   ]
  },
  {
   "cell_type": "code",
   "execution_count": null,
   "metadata": {
    "colab": {
     "base_uri": "https://localhost:8080/"
    },
    "executionInfo": {
     "elapsed": 25811,
     "status": "ok",
     "timestamp": 1682347269712,
     "user": {
      "displayName": "Meet Shah",
      "userId": "00934144907278114802"
     },
     "user_tz": -60
    },
    "id": "l-kp25ehSViW",
    "outputId": "93b1d9fb-bcdc-422d-f604-de97565930fb"
   },
   "outputs": [],
   "source": [
    "!\"/content/gdrive/MyDrive/Project/lczero/tf/train.py\" --cfg \"/content/gdrive/MyDrive/Project/YAML_Files/15.Anand.yaml\" --output \"/content/gdrive/MyDrive/Project/lczero/TrainedModels/15.Anand.txt\""
   ]
  },
  {
   "cell_type": "code",
   "execution_count": null,
   "metadata": {
    "colab": {
     "base_uri": "https://localhost:8080/"
    },
    "executionInfo": {
     "elapsed": 40255,
     "status": "ok",
     "timestamp": 1682358567184,
     "user": {
      "displayName": "Meet Shah",
      "userId": "00934144907278114802"
     },
     "user_tz": -60
    },
    "id": "ugDTubX-SZJ0",
    "outputId": "6ac4a37d-5148-4244-fc1e-d6ec4d9d0040"
   },
   "outputs": [],
   "source": [
    "!\"/content/gdrive/MyDrive/Project/lczero/tf/train.py\" --cfg \"/content/gdrive/MyDrive/Project/YAML_Files/16.Carlsen.yaml\" --output \"/content/gdrive/MyDrive/Project/lczero/TrainedModels/16.Carlsen.txt\""
   ]
  },
  {
   "cell_type": "code",
   "execution_count": null,
   "metadata": {
    "id": "naDufhelpfks"
   },
   "outputs": [],
   "source": []
  }
 ],
 "metadata": {
  "colab": {
   "authorship_tag": "ABX9TyPdYvg6BF1kdh8Ey0olAJQA",
   "provenance": []
  },
  "gpuClass": "premium",
  "kernelspec": {
   "display_name": "Python 3 (ipykernel)",
   "language": "python",
   "name": "python3"
  },
  "language_info": {
   "codemirror_mode": {
    "name": "ipython",
    "version": 3
   },
   "file_extension": ".py",
   "mimetype": "text/x-python",
   "name": "python",
   "nbconvert_exporter": "python",
   "pygments_lexer": "ipython3",
   "version": "3.9.12"
  }
 },
 "nbformat": 4,
 "nbformat_minor": 1
}
